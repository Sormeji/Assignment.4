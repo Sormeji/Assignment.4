{
 "cells": [
  {
   "cell_type": "code",
   "execution_count": 1,
   "id": "0bf1f349-cb6e-4629-aed5-5ffeaefae3de",
   "metadata": {},
   "outputs": [
    {
     "ename": "SyntaxError",
     "evalue": "invalid syntax (2176532405.py, line 2)",
     "output_type": "error",
     "traceback": [
      "\u001b[0;36m  Cell \u001b[0;32mIn[1], line 2\u001b[0;36m\u001b[0m\n\u001b[0;31m    Abstraction is one of the four fundamental principles of object-oriented programming (OOP), and it involves simplifying complex\u001b[0m\n\u001b[0m                       ^\u001b[0m\n\u001b[0;31mSyntaxError\u001b[0m\u001b[0;31m:\u001b[0m invalid syntax\n"
     ]
    }
   ],
   "source": [
    "#QAns:\n",
    "Abstraction is one of the four fundamental principles of object-oriented programming (OOP), and it involves simplifying complex\n",
    "systems by modeling classes based on their essential characteristics and behaviors, while hiding the unnecessary details.\n",
    "In essence, abstraction allows you to focus on what an object does rather than how it does it. \n",
    "It provides a high-level view of an object, making it easier to understand and work with in a larger software system.\n",
    "Example"
   ]
  },
  {
   "cell_type": "code",
   "execution_count": 3,
   "id": "842a13c5-4e04-4a98-a21a-e4ec11d8e372",
   "metadata": {},
   "outputs": [
    {
     "name": "stdout",
     "output_type": "stream",
     "text": [
      "Toyota Camry starts by turning the ignition key.\n",
      "Honda CB500 moves on two wheels.\n",
      "Boeing 747 stops its engines.\n"
     ]
    }
   ],
   "source": [
    "class Vehicle:\n",
    "    def __init__(self, name, fuel_type):\n",
    "        self.name = name\n",
    "        self.fuel_type = fuel_type\n",
    "\n",
    "    def start(self):\n",
    "        pass\n",
    "\n",
    "    def stop(self):\n",
    "        pass\n",
    "\n",
    "    def move(self):\n",
    "        pass\n",
    "\n",
    "class Car(Vehicle):\n",
    "    def start(self):\n",
    "        return f\"{self.name} starts by turning the ignition key.\"\n",
    "\n",
    "    def stop(self):\n",
    "        return f\"{self.name} stops by turning the ignition key.\"\n",
    "\n",
    "    def move(self):\n",
    "        return f\"{self.name} moves on roads.\"\n",
    "\n",
    "class Bike(Vehicle):\n",
    "    def start(self):\n",
    "        return f\"{self.name} starts by kicking the start lever.\"\n",
    "\n",
    "    def stop(self):\n",
    "        return f\"{self.name} stops by applying the brakes.\"\n",
    "\n",
    "    def move(self):\n",
    "        return f\"{self.name} moves on two wheels.\"\n",
    "\n",
    "class Airplane(Vehicle):\n",
    "    def start(self):\n",
    "        return f\"{self.name} starts its engines.\"\n",
    "\n",
    "    def stop(self):\n",
    "        return f\"{self.name} stops its engines.\"\n",
    "\n",
    "    def move(self):\n",
    "        return f\"{self.name} flies in the sky.\"\n",
    "\n",
    "# Creating instances of different vehicles\n",
    "car = Car(\"Toyota Camry\", \"Gasoline\")\n",
    "bike = Bike(\"Honda CB500\", \"Petrol\")\n",
    "airplane = Airplane(\"Boeing 747\", \"Jet Fuel\")\n",
    "\n",
    "# Using abstraction to interact with the vehicles\n",
    "print(car.start())\n",
    "print(bike.move())\n",
    "print(airplane.stop())\n"
   ]
  },
  {
   "cell_type": "code",
   "execution_count": 4,
   "id": "fcd82cfa-33d0-4f30-a9c9-0c90d8b24f9e",
   "metadata": {},
   "outputs": [
    {
     "ename": "SyntaxError",
     "evalue": "unterminated string literal (detected at line 9) (3329599426.py, line 9)",
     "output_type": "error",
     "traceback": [
      "\u001b[0;36m  Cell \u001b[0;32mIn[4], line 9\u001b[0;36m\u001b[0m\n\u001b[0;31m    Example: Let's consider a car as an object. From an abstract perspective, we are only concerned with its essential features, such as accelerating, braking, and turning.\u001b[0m\n\u001b[0m                ^\u001b[0m\n\u001b[0;31mSyntaxError\u001b[0m\u001b[0;31m:\u001b[0m unterminated string literal (detected at line 9)\n"
     ]
    }
   ],
   "source": [
    "#Q2Ans:\n",
    "Abstraction and encapsulation are two important concepts in object-oriented programming (OOP) that help in designing modular and efficient code. \n",
    "\n",
    "1. Abstraction:\n",
    "Abstraction is a process of hiding unnecessary details and exposing only the essential features of an object.\n",
    "It focuses on defining a clear interface for the functionalities and properties of an object, while hiding the implementation details. \n",
    "The main goal of abstraction is to simplify complex systems by breaking them down into smaller, manageable components.\n",
    "\n",
    "Example: Let's consider a car as an object. From an abstract perspective, we are only concerned with its essential features, such as accelerating, braking, and turning. \n",
    "We don't need to know the internal working of the engine, the transmission mechanism, or the electrical system. By abstracting away these implementation details,\n",
    "we can focus on using the car's functionalities without worrying about the complexities of its internal mechanisms.\n",
    "\n",
    "2. Encapsulation:\n",
    "Encapsulation is the process of bundling data and the methods that operate on that data into a single unit, called a class.\n",
    "It combines the properties (data) and behaviors (methods) into a self-contained object, which can be easily used and understood without exposing its internal details.\n",
    "Encapsulation helps in achieving data hiding, code modularity, and security.\n",
    "\n",
    "Example: Let's consider a class called \"BankAccount\" which has private data members such as account number, balance, and customer name, along with public methods like deposit and withdraw.\n",
    "The private data members are encapsulated within the class, and they cannot be directly accessed or modified from outside the class. \n",
    "Instead, we use the public methods to interact with the data. This way, the internal details of the bank account are hidden, ensuring data integrity and security."
   ]
  },
  {
   "cell_type": "code",
   "execution_count": 5,
   "id": "f05f422f-32f7-40df-bd49-2f0d21b5b1e0",
   "metadata": {},
   "outputs": [
    {
     "ename": "SyntaxError",
     "evalue": "invalid syntax (3953979155.py, line 2)",
     "output_type": "error",
     "traceback": [
      "\u001b[0;36m  Cell \u001b[0;32mIn[5], line 2\u001b[0;36m\u001b[0m\n\u001b[0;31m    The abc module in Python stands for \"Abstract Base Classes\". It is a module that provides infrastructure for defining abstract base classes in Python.\u001b[0m\n\u001b[0m        ^\u001b[0m\n\u001b[0;31mSyntaxError\u001b[0m\u001b[0;31m:\u001b[0m invalid syntax\n"
     ]
    }
   ],
   "source": [
    "#Q3Ans:\n",
    "The abc module in Python stands for \"Abstract Base Classes\". It is a module that provides infrastructure for defining abstract base classes in Python. \n",
    "Abstract base classes are classes that cannot be instantiated directly but serve as a blueprint for other classes. They define a common interface or behavior that derived classes must implement.\n",
    "\n",
    "The abc module is used for creating abstract base classes and enforcing specific behaviors on derived classes. \n",
    "It provides the ABC metaclass and the abstractmethod decorator, which are used to define abstract methods and enforce their implementation in derived classes."
   ]
  },
  {
   "cell_type": "code",
   "execution_count": null,
   "id": "ad7c512d-08fb-4b77-a31a-658dd69a1d72",
   "metadata": {},
   "outputs": [],
   "source": []
  }
 ],
 "metadata": {
  "kernelspec": {
   "display_name": "Python 3 (ipykernel)",
   "language": "python",
   "name": "python3"
  },
  "language_info": {
   "codemirror_mode": {
    "name": "ipython",
    "version": 3
   },
   "file_extension": ".py",
   "mimetype": "text/x-python",
   "name": "python",
   "nbconvert_exporter": "python",
   "pygments_lexer": "ipython3",
   "version": "3.10.8"
  }
 },
 "nbformat": 4,
 "nbformat_minor": 5
}
