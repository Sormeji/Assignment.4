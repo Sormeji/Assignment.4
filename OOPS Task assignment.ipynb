{
 "cells": [
  {
   "cell_type": "code",
   "execution_count": 16,
   "id": "57c4a6a1-44f4-4542-86d0-7938495a4d5c",
   "metadata": {},
   "outputs": [],
   "source": [
    "#Q1Ans:\n",
    "class Vehicle:\n",
    "    def __init__(self, name_of_vehicle, max_speed, average_speed):\n",
    "        self.name_of_vehicle = name_of_vehicle\n",
    "        self.max_speed = max_speed\n",
    "        self.average_speed = average_speed\n",
    "\n",
    "    def return_vehicle_details(self):\n",
    "        return self.name_of_vehicle, self.max_speed, self.average_speed\n",
    "\n"
   ]
  },
  {
   "cell_type": "code",
   "execution_count": 17,
   "id": "382017a0-ddfb-4f58-8168-33f13ec280e0",
   "metadata": {},
   "outputs": [
    {
     "data": {
      "text/plain": [
       "('Porsche', 300, 100)"
      ]
     },
     "execution_count": 17,
     "metadata": {},
     "output_type": "execute_result"
    }
   ],
   "source": [
    "car = Vehicle('Porsche', 300, 100)\n",
    "car.return_vehicle_details()"
   ]
  },
  {
   "cell_type": "code",
   "execution_count": 34,
   "id": "4331e2a7-3571-41aa-a616-2084c1156902",
   "metadata": {},
   "outputs": [
    {
     "name": "stdout",
     "output_type": "stream",
     "text": [
      "Car Details: Porsche, Max Speed: 300 km/h, Average Speed: 100 km/h\n",
      "Porsche has a seating capacity of 4 people.\n"
     ]
    }
   ],
   "source": [
    "#Q2Ans:\n",
    "class Car(Vehicle):\n",
    "   \n",
    "    def car_details(self):\n",
    "        return self.return_vehicle_details()\n",
    "\n",
    "    def seating_capacity(self, capacity):\n",
    "        return f\"{self.name_of_vehicle} has a seating capacity of {capacity} people.\"\n",
    "\n",
    "car = Car('Porsche', 300, 100)\n",
    "car_details = car.car_details()\n",
    "print(f\"Car Details: {car_details[0]}, Max Speed: {car_details[1]} km/h, Average Speed: {car_details[2]} km/h\")\n",
    "\n",
    "capacity = 4  # Example seating capacity\n",
    "seating_info = car.seating_capacity(capacity)\n",
    "print(seating_info)\n"
   ]
  },
  {
   "cell_type": "code",
   "execution_count": 1,
   "id": "85b8023a-e22f-434f-ae71-e68e927f7854",
   "metadata": {
    "collapsed": true,
    "jupyter": {
     "outputs_hidden": true
    },
    "tags": []
   },
   "outputs": [
    {
     "ename": "SyntaxError",
     "evalue": "invalid syntax (3140015460.py, line 3)",
     "output_type": "error",
     "traceback": [
      "\u001b[0;36m  Cell \u001b[0;32mIn[1], line 3\u001b[0;36m\u001b[0m\n\u001b[0;31m    Multiple inheritance in Python refers to the ability of a class to inherit attributes and methods from more than one parent class.\u001b[0m\n\u001b[0m             ^\u001b[0m\n\u001b[0;31mSyntaxError\u001b[0m\u001b[0;31m:\u001b[0m invalid syntax\n"
     ]
    }
   ],
   "source": [
    "#Q3Ans:\n",
    "\n",
    "Multiple inheritance in Python refers to the ability of a class to inherit attributes and methods from more than one parent class.\n",
    "This enables a child class to inherit and combine features from multiple sources, allowing for the creation of complex and versatile class hierarchies. "
   ]
  },
  {
   "cell_type": "code",
   "execution_count": 5,
   "id": "939a1e00-6ff1-48e8-b424-584d1b8c642f",
   "metadata": {},
   "outputs": [
    {
     "data": {
      "text/plain": [
       "'This is my class class1'"
      ]
     },
     "execution_count": 5,
     "metadata": {},
     "output_type": "execute_result"
    }
   ],
   "source": [
    "#This is the code of multiple inheritence\n",
    "class class1:\n",
    "    def test_class1(self):\n",
    "        return \"This is my class class1\"\n",
    "class class2:\n",
    "    def test_class2(self):\n",
    "        return \"This is claas2\"\n",
    "class class3(class1,class2):\n",
    "    pass\n",
    "obj_class3=class3()\n",
    "obj_class3.test_class1()"
   ]
  },
  {
   "cell_type": "code",
   "execution_count": 7,
   "id": "55c01ae4-40ad-4440-9850-928540d0ee6a",
   "metadata": {},
   "outputs": [
    {
     "data": {
      "text/plain": [
       "'This is claas2'"
      ]
     },
     "execution_count": 7,
     "metadata": {},
     "output_type": "execute_result"
    }
   ],
   "source": [
    "obj_class3.test_class2()"
   ]
  },
  {
   "cell_type": "code",
   "execution_count": 1,
   "id": "cb83fa93-67e7-4bd7-920e-efb2e9efe62b",
   "metadata": {},
   "outputs": [
    {
     "ename": "SyntaxError",
     "evalue": "invalid syntax (3241342003.py, line 2)",
     "output_type": "error",
     "traceback": [
      "\u001b[0;36m  Cell \u001b[0;32mIn[1], line 2\u001b[0;36m\u001b[0m\n\u001b[0;31m    In Python, getters and setters are methods used to access and modify the attributes of a class.\u001b[0m\n\u001b[0m       ^\u001b[0m\n\u001b[0;31mSyntaxError\u001b[0m\u001b[0;31m:\u001b[0m invalid syntax\n"
     ]
    }
   ],
   "source": [
    "#4Ans:\n",
    "In Python, getters and setters are methods used to access and modify the attributes of a class.\n",
    "They provide controlled access to class attributes, allowing you to perform validations, encapsulate data, and maintain data integrity."
   ]
  },
  {
   "cell_type": "code",
   "execution_count": 2,
   "id": "f0181e49-be5e-46c2-9a97-e2d343a56e26",
   "metadata": {},
   "outputs": [
    {
     "name": "stdout",
     "output_type": "stream",
     "text": [
      "Name: Alice\n",
      "Age: 25\n",
      "Updated Name: Bob\n",
      "Updated Age: 30\n"
     ]
    }
   ],
   "source": [
    "class Person:\n",
    "    def __init__(self, name, age):\n",
    "        self._name = name\n",
    "        self._age = age\n",
    "        \n",
    "    def get_name(self):\n",
    "        return self._name\n",
    "    \n",
    "    def set_name(self, name):\n",
    "        self._name = name if isinstance(name, str) else \"Invalid Name\"\n",
    "    \n",
    "    def get_age(self):\n",
    "        return self._age\n",
    "    \n",
    "    def set_age(self, age):\n",
    "        self._age = age if isinstance(age, int) and age > 0 else 0\n",
    "            \n",
    "person = Person(\"Alice\", 25)\n",
    "\n",
    "print(\"Name:\", person.get_name())\n",
    "print(\"Age:\", person.get_age())\n",
    "\n",
    "person.set_name(\"Bob\")\n",
    "person.set_age(30)\n",
    "\n",
    "print(\"Updated Name:\", person.get_name())\n",
    "print(\"Updated Age:\", person.get_age())\n"
   ]
  },
  {
   "cell_type": "code",
   "execution_count": 3,
   "id": "0be5aab2-6da9-40aa-b9d0-7fe7ca0ce646",
   "metadata": {},
   "outputs": [
    {
     "ename": "SyntaxError",
     "evalue": "invalid syntax (934682282.py, line 2)",
     "output_type": "error",
     "traceback": [
      "\u001b[0;36m  Cell \u001b[0;32mIn[3], line 2\u001b[0;36m\u001b[0m\n\u001b[0;31m    Method overriding is a concept in object-oriented programming where a subclass provides a specific implementation for a method that is already defined in its superclass.\u001b[0m\n\u001b[0m           ^\u001b[0m\n\u001b[0;31mSyntaxError\u001b[0m\u001b[0;31m:\u001b[0m invalid syntax\n"
     ]
    }
   ],
   "source": [
    "#Q5Ans\n",
    "Method overriding is a concept in object-oriented programming where a subclass provides a specific implementation for a method that is already defined in its superclass.\n",
    "This allows the subclass to provide its own version of the method while maintaining the same method signature as the superclass."
   ]
  },
  {
   "cell_type": "code",
   "execution_count": null,
   "id": "126d2e7f-ee6d-44af-89d4-b1cc525ae189",
   "metadata": {},
   "outputs": [],
   "source": [
    "class Animal:\n",
    "    def speak(self):\n",
    "        print(\"Animal speaks\")\n",
    "\n",
    "class Dog(Animal):\n",
    "    def speak(self):\n",
    "        print(\"Dog barks\")\n",
    "\n",
    "class Cat(Animal):\n",
    "    def speak(self):\n",
    "        print(\"Cat meows\")\n",
    "\n",
    "dog = Dog()\n",
    "cat = Cat()\n",
    "\n",
    "# Call the overridden speak methods\n",
    "dog.speak()  \n",
    "cat.speak()  \n"
   ]
  }
 ],
 "metadata": {
  "kernelspec": {
   "display_name": "Python 3 (ipykernel)",
   "language": "python",
   "name": "python3"
  },
  "language_info": {
   "codemirror_mode": {
    "name": "ipython",
    "version": 3
   },
   "file_extension": ".py",
   "mimetype": "text/x-python",
   "name": "python",
   "nbconvert_exporter": "python",
   "pygments_lexer": "ipython3",
   "version": "3.10.8"
  }
 },
 "nbformat": 4,
 "nbformat_minor": 5
}
