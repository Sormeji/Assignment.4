{
 "cells": [
  {
   "cell_type": "code",
   "execution_count": 1,
   "id": "fbf67f43-bee1-4be9-9d77-b36f371ee0f7",
   "metadata": {
    "collapsed": true,
    "jupyter": {
     "outputs_hidden": true
    },
    "tags": []
   },
   "outputs": [
    {
     "ename": "SyntaxError",
     "evalue": "invalid syntax (776036254.py, line 2)",
     "output_type": "error",
     "traceback": [
      "\u001b[0;36m  Cell \u001b[0;32mIn[1], line 2\u001b[0;36m\u001b[0m\n\u001b[0;31m    In object-oriented programming, a class is a blueprint or a template for creating objects.\u001b[0m\n\u001b[0m       ^\u001b[0m\n\u001b[0;31mSyntaxError\u001b[0m\u001b[0;31m:\u001b[0m invalid syntax\n"
     ]
    }
   ],
   "source": [
    "#Q1Ans:\n",
    "In object-oriented programming, a class is a blueprint or a template for creating objects.\n",
    "It defines the properties (attributes) and behaviors (methods) that objects of that class will have.\n",
    "\n"
   ]
  },
  {
   "cell_type": "code",
   "execution_count": 5,
   "id": "9443e803-14d9-4cc9-93ff-a32fbcb1605b",
   "metadata": {},
   "outputs": [],
   "source": [
    "#eg\n",
    "class Car:\n",
    "    def __init__(self, make, model):\n",
    "        self.make = make\n",
    "        self.model = model\n",
    "    \n",
    "    def start(self):\n",
    "        print(f\"{self.make} {self.model} is now running.\")\n",
    "    \n",
    "    def stop(self):\n",
    "        print(f\"{self.make} {self.model} has stopped.\")\n"
   ]
  },
  {
   "cell_type": "code",
   "execution_count": 3,
   "id": "0c32ec9c-3a79-4137-9fd5-993bb16bdda2",
   "metadata": {
    "collapsed": true,
    "jupyter": {
     "outputs_hidden": true
    },
    "tags": []
   },
   "outputs": [
    {
     "ename": "SyntaxError",
     "evalue": "invalid syntax (854116639.py, line 1)",
     "output_type": "error",
     "traceback": [
      "\u001b[0;36m  Cell \u001b[0;32mIn[3], line 1\u001b[0;36m\u001b[0m\n\u001b[0;31m    An object is like a real instance of something built based on the blueprint (class). It has actual data and can perform the actions described by the class.\u001b[0m\n\u001b[0m       ^\u001b[0m\n\u001b[0;31mSyntaxError\u001b[0m\u001b[0;31m:\u001b[0m invalid syntax\n"
     ]
    }
   ],
   "source": [
    " An object is like a real instance of something built based on the blueprint (class). It has actual data and can perform the actions described by the class.\n",
    "    For instance, if the class is \"Car,\" an object would be a specific car with a make, model, and the ability to start and stop."
   ]
  },
  {
   "cell_type": "code",
   "execution_count": 4,
   "id": "41de857c-47a9-4821-8d6f-74d23e7e0c87",
   "metadata": {},
   "outputs": [
    {
     "name": "stdout",
     "output_type": "stream",
     "text": [
      "Toyota Camry is now running.\n",
      "Ford Mustang is now running.\n",
      "Ford Mustang has stopped.\n"
     ]
    }
   ],
   "source": [
    "#eg\n",
    "my_car = Car(\"Toyota\", \"Camry\")\n",
    "my_friend_car = Car(\"Ford\", \"Mustang\")\n",
    "\n",
    "my_car.start()\n",
    "my_friend_car.start()\n",
    "my_friend_car.stop()\n"
   ]
  },
  {
   "cell_type": "code",
   "execution_count": 6,
   "id": "52a8a0af-1b15-4d64-acd4-1e8f5dc74588",
   "metadata": {
    "collapsed": true,
    "jupyter": {
     "outputs_hidden": true
    },
    "tags": []
   },
   "outputs": [
    {
     "ename": "SyntaxError",
     "evalue": "invalid decimal literal (4110641024.py, line 4)",
     "output_type": "error",
     "traceback": [
      "\u001b[0;36m  Cell \u001b[0;32mIn[6], line 4\u001b[0;36m\u001b[0m\n\u001b[0;31m    1.Encapsulation: Encapsulation is the concept of bundling data (attributes) and the methods (functions) that operate on that data into a single unit called an \"object.\"\u001b[0m\n\u001b[0m     ^\u001b[0m\n\u001b[0;31mSyntaxError\u001b[0m\u001b[0;31m:\u001b[0m invalid decimal literal\n"
     ]
    }
   ],
   "source": [
    "#Q2Ans:\n",
    "\n",
    "The four pillars of object-oriented programming (OOP) are:\n",
    "1.Encapsulation: Encapsulation is the concept of bundling data (attributes) and the methods (functions) that operate on that data into a single unit called an \"object.\" \n",
    "It allows you to hide the internal details of an object and only expose a controlled interface. This helps in data protection and reduces complexity by controlling access to the object's data.\n",
    "2.Inheritance: Inheritance is a mechanism that allows a new class (subclass or derived class) to inherit properties and behaviors (attributes and methods) from an existing class . \n",
    "It promotes code reuse and establishes a hierarchical relationship between classes.\n",
    "3.Polymorphism: Polymorphism means \"many forms.\" It allows objects of different classes to be treated as objects of a common superclass. \n",
    "Polymorphism enables you to write code that can work with objects of various types in a more generic way. It is often achieved through method overriding and interfaces/abstract classes.\n",
    "4.Abstraction: Abstraction is the process of simplifying complex reality by modeling classes based on the essential properties and behaviors they possess.\n",
    "It involves focusing on the relevant details while ignoring unnecessary complexities. Abstraction helps in managing complexity in large software systems."
   ]
  },
  {
   "cell_type": "code",
   "execution_count": 7,
   "id": "9945edc4-bcfe-4c2e-9ec0-74b68170760c",
   "metadata": {},
   "outputs": [
    {
     "ename": "SyntaxError",
     "evalue": "unterminated string literal (detected at line 3) (1122065615.py, line 3)",
     "output_type": "error",
     "traceback": [
      "\u001b[0;36m  Cell \u001b[0;32mIn[7], line 3\u001b[0;36m\u001b[0m\n\u001b[0;31m    It sets up the object's initial state and is automatically called when an object is created to ensure it starts with the desired characteristics.\u001b[0m\n\u001b[0m                         ^\u001b[0m\n\u001b[0;31mSyntaxError\u001b[0m\u001b[0;31m:\u001b[0m unterminated string literal (detected at line 3)\n"
     ]
    }
   ],
   "source": [
    "#Q3Ans:\n",
    "The __init__() function is used in Python to initialize the attributes (data) of an object when it is created from a class. \n",
    "It sets up the object's initial state and is automatically called when an object is created to ensure it starts with the desired characteristics.\n"
   ]
  },
  {
   "cell_type": "code",
   "execution_count": 8,
   "id": "3113765e-2117-4da6-90dd-360694e9c86b",
   "metadata": {},
   "outputs": [
    {
     "name": "stdout",
     "output_type": "stream",
     "text": [
      "Hi, I'm Alice and I'm 30 years old.\n",
      "Hi, I'm Bob and I'm 25 years old.\n"
     ]
    }
   ],
   "source": [
    "#eg:\n",
    "class Person:\n",
    "    def __init__(self, name, age):\n",
    "        self.name = name\n",
    "        self.age = age\n",
    "\n",
    "    def introduce(self):\n",
    "        print(f\"Hi, I'm {self.name} and I'm {self.age} years old.\")\n",
    "\n",
    "# Creating two person objects and initializing their attributes using __init__()\n",
    "person1 = Person(\"Alice\", 30)\n",
    "person2 = Person(\"Bob\", 25)\n",
    "\n",
    "# Calling the introduce method to introduce each person\n",
    "person1.introduce()\n",
    "person2.introduce()\n",
    "\n"
   ]
  },
  {
   "cell_type": "code",
   "execution_count": 9,
   "id": "38a0fd91-992e-40aa-8f77-1d5b550c1958",
   "metadata": {
    "collapsed": true,
    "jupyter": {
     "outputs_hidden": true
    },
    "tags": []
   },
   "outputs": [
    {
     "ename": "SyntaxError",
     "evalue": "invalid syntax (393465139.py, line 2)",
     "output_type": "error",
     "traceback": [
      "\u001b[0;36m  Cell \u001b[0;32mIn[9], line 2\u001b[0;36m\u001b[0m\n\u001b[0;31m    In object-oriented programming (OOP), \"self\" is a special keyword used to refer to the current instance of a class.\u001b[0m\n\u001b[0m       ^\u001b[0m\n\u001b[0;31mSyntaxError\u001b[0m\u001b[0;31m:\u001b[0m invalid syntax\n"
     ]
    }
   ],
   "source": [
    "#Q4Ans:\n",
    "In object-oriented programming (OOP), \"self\" is a special keyword used to refer to the current instance of a class. \n",
    "It is typically the first parameter of a method within a class. The use of \"self\" allows us to access and manipulate the attributes and methods of the current object."
   ]
  },
  {
   "cell_type": "code",
   "execution_count": 10,
   "id": "6e95e36c-d44d-4a44-9c57-f076a66a96a0",
   "metadata": {},
   "outputs": [
    {
     "ename": "SyntaxError",
     "evalue": "invalid syntax (1692229935.py, line 2)",
     "output_type": "error",
     "traceback": [
      "\u001b[0;36m  Cell \u001b[0;32mIn[10], line 2\u001b[0;36m\u001b[0m\n\u001b[0;31m    Inheritance is a fundamental concept in object-oriented programming (OOP) that allows you to create a new class (subclass or derived class) based on an existing class (base class or parent class).\u001b[0m\n\u001b[0m                     ^\u001b[0m\n\u001b[0;31mSyntaxError\u001b[0m\u001b[0;31m:\u001b[0m invalid syntax\n"
     ]
    }
   ],
   "source": [
    "#Q5Ans:\n",
    "Inheritance is a fundamental concept in object-oriented programming (OOP) that allows you to create a new class (subclass or derived class) based on an existing class (base class or parent class). \n",
    "The subclass inherits attributes and methods from the parent class, promoting code reuse and establishing a hierarchical relationship between classes. \n",
    "There are several types of inheritance, including single inheritance, multiple inheritance, and hierarchical inheritance."
   ]
  },
  {
   "cell_type": "code",
   "execution_count": 11,
   "id": "a9b9e048-ecd0-4305-8519-88ea86aff317",
   "metadata": {},
   "outputs": [
    {
     "ename": "SyntaxError",
     "evalue": "invalid syntax (732510569.py, line 1)",
     "output_type": "error",
     "traceback": [
      "\u001b[0;36m  Cell \u001b[0;32mIn[11], line 1\u001b[0;36m\u001b[0m\n\u001b[0;31m    Inheritance is a fundamental concept in object-oriented programming (OOP) that allows you to create a new class (subclass or derived class) based on an existing class (base class or parent class).\u001b[0m\n\u001b[0m                     ^\u001b[0m\n\u001b[0;31mSyntaxError\u001b[0m\u001b[0;31m:\u001b[0m invalid syntax\n"
     ]
    }
   ],
   "source": [
    "\n",
    "Inheritance is a fundamental concept in object-oriented programming (OOP) that allows you to create a new class (subclass or derived class) based on an existing class (base class or parent class).\n",
    "The subclass inherits attributes and methods from the parent class, promoting code reuse and establishing a hierarchical relationship between classes. \n",
    "There are several types of inheritance, including single inheritance, multiple inheritance, and hierarchical inheritance.\n",
    "\n",
    "1.Single Inheritance:\n",
    "\n",
    "Single inheritance involves one subclass inheriting from a single parent class.\n",
    "Example:"
   ]
  },
  {
   "cell_type": "code",
   "execution_count": 12,
   "id": "8484328c-5665-4ac9-858d-9a5e2cc79c61",
   "metadata": {},
   "outputs": [
    {
     "name": "stdout",
     "output_type": "stream",
     "text": [
      "Woof!\n",
      "Meow!\n"
     ]
    }
   ],
   "source": [
    "class Animal:\n",
    "    def speak(self):\n",
    "        pass\n",
    "\n",
    "class Dog(Animal):\n",
    "    def speak(self):\n",
    "        return \"Woof!\"\n",
    "\n",
    "class Cat(Animal):\n",
    "    def speak(self):\n",
    "        return \"Meow!\"\n",
    "\n",
    "dog = Dog()\n",
    "cat = Cat()\n",
    "\n",
    "print(dog.speak())  # Output: \"Woof!\"\n",
    "print(cat.speak())  # Output: \"Meow!\"\n"
   ]
  },
  {
   "cell_type": "code",
   "execution_count": 13,
   "id": "0ec78b53-0a05-4eb8-808a-def88a53f064",
   "metadata": {},
   "outputs": [
    {
     "ename": "SyntaxError",
     "evalue": "invalid decimal literal (1906539325.py, line 1)",
     "output_type": "error",
     "traceback": [
      "\u001b[0;36m  Cell \u001b[0;32mIn[13], line 1\u001b[0;36m\u001b[0m\n\u001b[0;31m    2.Multiple Inheritance:\u001b[0m\n\u001b[0m     ^\u001b[0m\n\u001b[0;31mSyntaxError\u001b[0m\u001b[0;31m:\u001b[0m invalid decimal literal\n"
     ]
    }
   ],
   "source": [
    "2.Multiple Inheritance:\n",
    "\n",
    "Multiple inheritance occurs when a subclass inherits from more than one parent class.\n",
    "Example:"
   ]
  },
  {
   "cell_type": "code",
   "execution_count": 14,
   "id": "5845f612-58f6-4851-bdf2-ae6bb30e2fe2",
   "metadata": {},
   "outputs": [
    {
     "name": "stdout",
     "output_type": "stream",
     "text": [
      "Method A from class A\n",
      "Method B from class B\n",
      "Method C from class C\n"
     ]
    }
   ],
   "source": [
    "class A:\n",
    "    def method_A(self):\n",
    "        return \"Method A from class A\"\n",
    "\n",
    "class B:\n",
    "    def method_B(self):\n",
    "        return \"Method B from class B\"\n",
    "\n",
    "class C(A, B):\n",
    "    def method_C(self):\n",
    "        return \"Method C from class C\"\n",
    "\n",
    "obj_C = C()\n",
    "\n",
    "print(obj_C.method_A())  # Output: \"Method A from class A\"\n",
    "print(obj_C.method_B())  # Output: \"Method B from class B\"\n",
    "print(obj_C.method_C())  # Output: \"Method C from class C\"\n"
   ]
  },
  {
   "cell_type": "code",
   "execution_count": 15,
   "id": "cdc285a7-6dee-4e4b-a0b3-5863d57523ee",
   "metadata": {},
   "outputs": [
    {
     "ename": "SyntaxError",
     "evalue": "invalid decimal literal (948865188.py, line 1)",
     "output_type": "error",
     "traceback": [
      "\u001b[0;36m  Cell \u001b[0;32mIn[15], line 1\u001b[0;36m\u001b[0m\n\u001b[0;31m    3.Hierarchical Inheritance:\u001b[0m\n\u001b[0m     ^\u001b[0m\n\u001b[0;31mSyntaxError\u001b[0m\u001b[0;31m:\u001b[0m invalid decimal literal\n"
     ]
    }
   ],
   "source": [
    "3.Hierarchical Inheritance:\n",
    "\n",
    "Hierarchical inheritance involves multiple subclasses inheriting from a single parent class.\n",
    "Example:"
   ]
  },
  {
   "cell_type": "code",
   "execution_count": 16,
   "id": "4e492a86-3427-45ac-a368-b7740b7f6acd",
   "metadata": {},
   "outputs": [
    {
     "name": "stdout",
     "output_type": "stream",
     "text": [
      "Vehicle started.\n",
      "Vehicle started.\n"
     ]
    }
   ],
   "source": [
    "class Vehicle:\n",
    "    def start(self):\n",
    "        return \"Vehicle started.\"\n",
    "\n",
    "class Car(Vehicle):\n",
    "    def drive(self):\n",
    "        return \"Car is being driven.\"\n",
    "\n",
    "class Bike(Vehicle):\n",
    "    def ride(self):\n",
    "        return \"Bike is being ridden.\"\n",
    "\n",
    "car = Car()\n",
    "bike = Bike()\n",
    "\n",
    "print(car.start())  # Output: \"Vehicle started.\"\n",
    "print(bike.start())  # Output: \"Vehicle started.\"\n"
   ]
  },
  {
   "cell_type": "code",
   "execution_count": 17,
   "id": "9383de0e-3072-4bac-85eb-480ecbe2fe02",
   "metadata": {},
   "outputs": [
    {
     "ename": "SyntaxError",
     "evalue": "invalid syntax (771019112.py, line 1)",
     "output_type": "error",
     "traceback": [
      "\u001b[0;36m  Cell \u001b[0;32mIn[17], line 1\u001b[0;36m\u001b[0m\n\u001b[0;31m    4,Multilevel Inheritance:\u001b[0m\n\u001b[0m                 ^\u001b[0m\n\u001b[0;31mSyntaxError\u001b[0m\u001b[0;31m:\u001b[0m invalid syntax\n"
     ]
    }
   ],
   "source": [
    "4,Multilevel Inheritance:\n",
    "\n",
    "Multilevel inheritance occurs when a subclass becomes the parent class for another subclass.\n",
    "Example:"
   ]
  },
  {
   "cell_type": "code",
   "execution_count": 18,
   "id": "225a2145-3bc5-4e85-85ca-f4ef2f4610e4",
   "metadata": {},
   "outputs": [
    {
     "name": "stdout",
     "output_type": "stream",
     "text": [
      "Method G from Grandparent\n",
      "Method G from Grandparent\n",
      "Method P from Parent\n",
      "Method G from Grandparent\n",
      "Method P from Parent\n",
      "Method C from Child\n"
     ]
    }
   ],
   "source": [
    "class Grandparent:\n",
    "    def method_G(self):\n",
    "        return \"Method G from Grandparent\"\n",
    "\n",
    "class Parent(Grandparent):\n",
    "    def method_P(self):\n",
    "        return \"Method P from Parent\"\n",
    "\n",
    "class Child(Parent):\n",
    "    def method_C(self):\n",
    "        return \"Method C from Child\"\n",
    "\n",
    "obj_G = Grandparent()\n",
    "obj_P = Parent()\n",
    "obj_C = Child()\n",
    "\n",
    "print(obj_G.method_G())  # Output: \"Method G from Grandparent\"\n",
    "print(obj_P.method_G())  # Output: \"Method G from Grandparent\"\n",
    "print(obj_P.method_P())  # Output: \"Method P from Parent\"\n",
    "print(obj_C.method_G())  # Output: \"Method G from Grandparent\"\n",
    "print(obj_C.method_P())  # Output: \"Method P from Parent\"\n",
    "print(obj_C.method_C())  # Output: \"Method C from Child\"\n"
   ]
  },
  {
   "cell_type": "code",
   "execution_count": null,
   "id": "9925aec1-0b9b-473d-9ee5-850f6e5ff40b",
   "metadata": {},
   "outputs": [],
   "source": []
  }
 ],
 "metadata": {
  "kernelspec": {
   "display_name": "Python 3 (ipykernel)",
   "language": "python",
   "name": "python3"
  },
  "language_info": {
   "codemirror_mode": {
    "name": "ipython",
    "version": 3
   },
   "file_extension": ".py",
   "mimetype": "text/x-python",
   "name": "python",
   "nbconvert_exporter": "python",
   "pygments_lexer": "ipython3",
   "version": "3.10.8"
  }
 },
 "nbformat": 4,
 "nbformat_minor": 5
}
